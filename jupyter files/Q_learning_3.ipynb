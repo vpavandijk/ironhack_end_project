{
 "cells": [
  {
   "cell_type": "code",
   "execution_count": 1,
   "metadata": {},
   "outputs": [],
   "source": [
    "# import libraries\n",
    "import numpy as np\n",
    "import pandas as pd\n",
    "import math"
   ]
  },
  {
   "cell_type": "code",
   "execution_count": 18,
   "metadata": {},
   "outputs": [
    {
     "data": {
      "text/html": [
       "<style>.container { width:100% !important; }</style>"
      ],
      "text/plain": [
       "<IPython.core.display.HTML object>"
      ]
     },
     "metadata": {},
     "output_type": "display_data"
    }
   ],
   "source": [
    "from IPython.core.display import display, HTML\n",
    "display(HTML(\"<style>.container { width:100% !important; }</style>\"))"
   ]
  },
  {
   "cell_type": "code",
   "execution_count": 2,
   "metadata": {},
   "outputs": [],
   "source": [
    "%%capture\n",
    "from tqdm import tqdm_notebook as tqdm\n",
    "tqdm().pandas()"
   ]
  },
  {
   "cell_type": "code",
   "execution_count": 3,
   "metadata": {},
   "outputs": [
    {
     "data": {
      "text/plain": [
       "21"
      ]
     },
     "execution_count": 3,
     "metadata": {},
     "output_type": "execute_result"
    }
   ],
   "source": [
    "#defining the states:\n",
    "location_to_state = {'A':0, 'B':1, 'C':2,'D':3, 'E':4, 'F':5, 'G':6, 'H':7, 'I':8,'J':9, 'K':10, 'L':11, 'M':12, 'N':13, 'O':14,'P':15, 'Q':16, 'R':17, 'S':18, 'T':19, 'Z':20}\n",
    "len(location_to_state)\n"
   ]
  },
  {
   "cell_type": "code",
   "execution_count": 4,
   "metadata": {},
   "outputs": [
    {
     "data": {
      "text/plain": [
       "21"
      ]
     },
     "execution_count": 4,
     "metadata": {},
     "output_type": "execute_result"
    }
   ],
   "source": [
    "#defining the actions:\n",
    "actions = [i for i in range(len(location_to_state))]\n",
    "actions\n",
    "len(actions)"
   ]
  },
  {
   "cell_type": "code",
   "execution_count": 5,
   "metadata": {},
   "outputs": [
    {
     "name": "stdout",
     "output_type": "stream",
     "text": [
      "[0. 1. 0. 0. 1. 0. 0. 0. 0. 0. 0. 0. 0. 0. 0. 0. 0. 0. 0. 0. 0.]\n",
      "[1. 0. 1. 0. 0. 1. 0. 0. 0. 0. 0. 0. 0. 0. 0. 0. 0. 0. 0. 0. 0.]\n",
      "[0. 1. 0. 1. 0. 0. 1. 0. 0. 0. 0. 0. 0. 0. 0. 0. 0. 0. 0. 0. 0.]\n",
      "[0. 0. 1. 0. 0. 0. 0. 1. 0. 0. 0. 0. 0. 0. 0. 0. 0. 0. 0. 0. 0.]\n",
      "[1. 0. 0. 0. 0. 0. 0. 0. 1. 0. 0. 0. 0. 0. 0. 0. 0. 0. 0. 0. 0.]\n",
      "[0. 1. 0. 0. 0. 0. 1. 0. 0. 1. 0. 0. 0. 0. 0. 0. 0. 0. 0. 0. 0.]\n",
      "[0. 0. 1. 0. 0. 1. 0. 0. 0. 0. 1. 0. 0. 0. 0. 0. 0. 0. 0. 0. 0.]\n",
      "[0. 0. 0. 1. 0. 0. 0. 0. 0. 0. 0. 1. 0. 0. 0. 0. 0. 0. 0. 0. 0.]\n",
      "[0. 0. 0. 0. 1. 0. 0. 0. 0. 0. 0. 0. 1. 0. 0. 0. 0. 0. 0. 0. 0.]\n",
      "[0. 0. 0. 0. 0. 1. 0. 0. 0. 0. 1. 0. 0. 1. 0. 0. 0. 0. 0. 0. 0.]\n",
      "[0. 0. 0. 0. 0. 0. 1. 0. 0. 1. 0. 0. 0. 0. 1. 0. 0. 0. 0. 0. 0.]\n",
      "[0. 0. 0. 0. 0. 0. 0. 1. 0. 0. 0. 0. 0. 0. 0. 1. 0. 0. 0. 0. 0.]\n",
      "[0. 0. 0. 0. 0. 0. 0. 0. 1. 0. 0. 0. 0. 0. 0. 0. 1. 0. 0. 0. 0.]\n",
      "[0. 0. 0. 0. 0. 0. 0. 0. 0. 1. 0. 0. 0. 0. 1. 0. 0. 1. 0. 0. 0.]\n",
      "[0. 0. 0. 0. 0. 0. 0. 0. 0. 0. 1. 0. 0. 1. 0. 0. 0. 0. 1. 0. 0.]\n",
      "[0. 0. 0. 0. 0. 0. 0. 0. 0. 0. 0. 1. 0. 0. 0. 0. 0. 0. 0. 1. 0.]\n",
      "[0. 0. 0. 0. 0. 0. 0. 0. 0. 0. 0. 0. 1. 0. 0. 0. 0. 1. 0. 0. 0.]\n",
      "[0. 0. 0. 0. 0. 0. 0. 0. 0. 0. 0. 0. 0. 1. 0. 0. 1. 0. 1. 0. 1.]\n",
      "[0. 0. 0. 0. 0. 0. 0. 0. 0. 0. 0. 0. 0. 0. 1. 0. 0. 1. 0. 1. 1.]\n",
      "[0. 0. 0. 0. 0. 0. 0. 0. 0. 0. 0. 0. 0. 0. 0. 1. 0. 0. 1. 0. 0.]\n",
      "[0. 0. 0. 0. 0. 0. 0. 0. 0. 0. 0. 0. 0. 0. 0. 0. 0. 1. 1. 0. 0.]\n"
     ]
    }
   ],
   "source": [
    "#Create a 2D numpy array to hold the rewards for each state. \n",
    "#The array contains 11 rows and 11 columns (to match the shape of the environment), and each value is initialized to -100.\n",
    "R = np.zeros((len(location_to_state), len(actions)))\n",
    "\n",
    "#define aisle locations (i.e., white squares) for rows 1 through 9\n",
    "aisles = {} #store locations in a dictionary\n",
    "aisles[0] = [1, 4]\n",
    "aisles[1] = [0, 2, 5]\n",
    "aisles[2] = [1, 3, 6]\n",
    "aisles[3] = [2, 7]\n",
    "aisles[4] = [0, 8]\n",
    "aisles[5] = [1, 6, 9]\n",
    "aisles[6] = [2, 5, 10]\n",
    "aisles[7] = [3, 11]\n",
    "aisles[8] = [4, 12]\n",
    "aisles[9] = [5, 10, 13]\n",
    "aisles[10] = [6, 9, 14]\n",
    "aisles[11] = [7, 15]\n",
    "aisles[12] = [8, 16]\n",
    "aisles[13] = [9, 14, 17]\n",
    "aisles[14] = [10, 13, 18]\n",
    "aisles[15] = [11, 19]\n",
    "aisles[16] = [12, 17]\n",
    "aisles[17] = [13, 16, 18, 20]\n",
    "aisles[18] = [14, 17, 19, 20]\n",
    "aisles[19] = [15, 18]\n",
    "aisles[20] = [17, 18]\n",
    "\n",
    "#set the rewards for all aisle locations (i.e., white squares)\n",
    "for row_index in range(len(location_to_state)):\n",
    "    for column_index in aisles[row_index]:\n",
    "        R[row_index, column_index] = 1.\n",
    "\n",
    "#print rewards matrix\n",
    "for row in R:\n",
    "    print(row)\n",
    "    "
   ]
  },
  {
   "cell_type": "code",
   "execution_count": 6,
   "metadata": {},
   "outputs": [],
   "source": [
    "# The Q-learning\n",
    "\n",
    "episodes = 1000\n",
    "discount_factor = 0.5 # also called gamma\n",
    "learning_rate = 0.75 # also called alpha\n"
   ]
  },
  {
   "cell_type": "code",
   "execution_count": 7,
   "metadata": {},
   "outputs": [
    {
     "data": {
      "text/plain": [
       "{0: 'A',\n",
       " 1: 'B',\n",
       " 2: 'C',\n",
       " 3: 'D',\n",
       " 4: 'E',\n",
       " 5: 'F',\n",
       " 6: 'G',\n",
       " 7: 'H',\n",
       " 8: 'I',\n",
       " 9: 'J',\n",
       " 10: 'K',\n",
       " 11: 'L',\n",
       " 12: 'M',\n",
       " 13: 'N',\n",
       " 14: 'O',\n",
       " 15: 'P',\n",
       " 16: 'Q',\n",
       " 17: 'R',\n",
       " 18: 'S',\n",
       " 19: 'T',\n",
       " 20: 'Z'}"
      ]
     },
     "execution_count": 7,
     "metadata": {},
     "output_type": "execute_result"
    }
   ],
   "source": [
    "state_to_location = {state: location for location, state in location_to_state.items()}\n",
    "state_to_location"
   ]
  },
  {
   "cell_type": "code",
   "execution_count": 8,
   "metadata": {},
   "outputs": [],
   "source": [
    "def route(starting_location, ending_location):\n",
    "    R_new = np.copy(R)\n",
    "    ending_state = location_to_state[ending_location]\n",
    "    R_new[ending_state, ending_state] = 100\n",
    "    Q = np.zeros((len(location_to_state), len(actions)))\n",
    "    for i in range(episodes):\n",
    "        current_state = np.random.randint(len(location_to_state))\n",
    "        playable_actions = []\n",
    "        for j in range(len(actions)):\n",
    "            if R_new[current_state, j] > 0:\n",
    "                playable_actions.append(j)\n",
    "        next_state = np.random.choice(playable_actions)\n",
    "        TD = R_new[current_state, next_state] + discount_factor * Q[next_state, np.argmax(Q[next_state,])] - Q[current_state, next_state]\n",
    "        Q[current_state, next_state] = Q[current_state, next_state] + learning_rate * TD\n",
    "    route = [starting_location]\n",
    "    next_location = starting_location\n",
    "    while (next_location != ending_location):\n",
    "        starting_state = location_to_state[starting_location]\n",
    "        next_state = np.argmax(Q[starting_state,])\n",
    "        next_location = state_to_location[next_state]\n",
    "        route.append(next_location)\n",
    "        starting_location = next_location\n",
    "#     print(Q)\n",
    "    return route\n"
   ]
  },
  {
   "cell_type": "code",
   "execution_count": 9,
   "metadata": {},
   "outputs": [],
   "source": [
    "start_location = 'Z'\n",
    "end_location = 'Z'"
   ]
  },
  {
   "cell_type": "code",
   "execution_count": 10,
   "metadata": {},
   "outputs": [],
   "source": [
    "def best_route_1(starting_location, intermediary_location, ending_location):\n",
    "    return route(starting_location, intermediary_location) + route(intermediary_location, ending_location)[1:]\n"
   ]
  },
  {
   "cell_type": "code",
   "execution_count": 13,
   "metadata": {},
   "outputs": [
    {
     "data": {
      "text/plain": [
       "['Z', 'S', 'T', 'P', 'L', 'H', 'L', 'P', 'T', 'S', 'Z']"
      ]
     },
     "execution_count": 13,
     "metadata": {},
     "output_type": "execute_result"
    }
   ],
   "source": [
    "best_route_1('Z', 'H', 'Z')"
   ]
  },
  {
   "cell_type": "code",
   "execution_count": 14,
   "metadata": {},
   "outputs": [],
   "source": [
    "def best_route_2(starting_location, intermediary_location_1, intermediary_location_2, ending_location):\n",
    "    route_1 = route(starting_location, intermediary_location_1) + route(intermediary_location_1, intermediary_location_2)[1:] +route(intermediary_location_2, ending_location)[1:]\n",
    "    route_2 = route(starting_location, intermediary_location_2) + route(intermediary_location_2, intermediary_location_1)[1:] +route(intermediary_location_1, ending_location)[1:]\n",
    "    if len(route_1) < len(route_2):\n",
    "        route_best = route_1\n",
    "    else:\n",
    "        route_best = route_2\n",
    "    return route_best\n"
   ]
  },
  {
   "cell_type": "code",
   "execution_count": 15,
   "metadata": {},
   "outputs": [],
   "source": [
    "def best_route_3(start_loc, int_loc_1, int_loc_2, int_loc_3, end_loc):\n",
    "    n = math.factorial(len(loc_list))\n",
    "        \n",
    "    \n",
    "    route_1 = route(start_loc, int_loc_1) + route(int_loc_1, int_loc_2)[1:] + route(int_loc_2, int_loc_3)[1:] + route(int_loc_3, end_loc)[1:]\n",
    "    route_best = route_1 \n",
    "    route_2 = route(start_loc, int_loc_1) + route(int_loc_1, int_loc_3)[1:] + route(int_loc_3, int_loc_2)[1:] + route(int_loc_2, end_loc)[1:]\n",
    "    if len(route_2) < len(route_best):\n",
    "        route_best = route_2\n",
    "    route_3 = route(start_loc, int_loc_2) + route(int_loc_2, int_loc_1)[1:] + route(int_loc_1, int_loc_3)[1:] + route(int_loc_3, end_loc)[1:]\n",
    "    if len(route_3) < len(route_best):\n",
    "        route_best = route_3\n",
    "    route_4 = route(start_loc, int_loc_2) + route(int_loc_2, int_loc_3)[1:] + route(int_loc_3, int_loc_1)[1:] + route(int_loc_1, end_loc)[1:]\n",
    "    if len(route_4) < len(route_best):\n",
    "        route_best = route_4\n",
    "    route_5 = route(start_loc, int_loc_3) + route(int_loc_3, int_loc_1)[1:] + route(int_loc_1, int_loc_2)[1:] + route(int_loc_2, end_loc)[1:]\n",
    "    if len(route_5) < len(route_best):\n",
    "        route_best = route_5\n",
    "    route_6 = route(start_loc, int_loc_3) + route(int_loc_3, int_loc_2)[1:] + route(int_loc_2, int_loc_1)[1:] + route(int_loc_1, end_loc)[1:]\n",
    "    if len(route_6) < len(route_best):\n",
    "        route_best = route_6\n",
    "    return route_best\n",
    "\n",
    "#     if len(route_1) <= len(route_2) and len(route_1) <= len(route_3) and len(route_1) <= len(route_4) and len(route_1) <= len(route_5) and len(route_1) <= len(route_6):\n",
    "#         best = route_1\n",
    "#     elif len(route_2) <= len(route_1) and len(route_2) <= len(route_3) and len(route_2) <= len(route_4) and len(route_2) <= len(route_5) and len(route_2) <= len(route_6):\n",
    "#         best = route_2\n",
    "#     elif len(route_3) <= len(route_1) and len(route_3) <= len(route_2) and len(route_3) <= len(route_4) and len(route_3) <= len(route_5) and len(route_3) <= len(route_6):\n",
    "#         best = route_3\n",
    "#     elif len(route_4) <= len(route_1) and len(route_4) <= len(route_2) and len(route_4) <= len(route_3) and len(route_4) <= len(route_5) and len(route_4) <= len(route_6):\n",
    "#         best = route_4\n",
    "#     elif len(route_5) <= len(route_1) and len(route_5) <= len(route_2) and len(route_5) <= len(route_3) and len(route_5) <= len(route_4) and len(route_5) <= len(route_6):\n",
    "#         best = route_5\n",
    "#     elif len(route_6) <= len(route_1) and len(route_6) <= len(route_2) and len(route_6) <= len(route_3) and len(route_6) <= len(route_4) and len(route_6) <= len(route_5):\n",
    "#         best = route_6\n",
    "#     lengths = [len(route_1), len(route_2), len(route_3), len(route_4), len(route_5), len(route_6)]\n",
    "#     minimum = lengths.index(min(lengths))\n",
    "#     route_best = 'route_' + str(minimum+1)\n",
    "    \n"
   ]
  },
  {
   "cell_type": "code",
   "execution_count": 16,
   "metadata": {},
   "outputs": [],
   "source": [
    "def best_route(l):\n",
    "    if len(l) == 1:\n",
    "        return best_route_1(start_location, l[0], end_location)\n",
    "    elif len(l) == 2:\n",
    "        return best_route_2(start_location, l[0], l[1], end_location)\n",
    "    elif len(l) == 3:\n",
    "        return best_route_3(start_location, l[0], l[1], l[2], end_location)"
   ]
  },
  {
   "cell_type": "code",
   "execution_count": 17,
   "metadata": {},
   "outputs": [
    {
     "name": "stdout",
     "output_type": "stream",
     "text": [
      "Picklocations: hjl\n",
      "['H', 'J', 'L']\n",
      "['Z', 'R', 'N', 'J', 'F', 'B', 'C', 'D', 'H', 'L', 'P', 'T', 'S', 'Z']\n",
      "14\n"
     ]
    }
   ],
   "source": [
    "loc_list = list(input('Picklocations: ').upper())\n",
    "print(loc_list)\n",
    "# create_function(loc_list)\n",
    "\n",
    "\n",
    "ROUTE = best_route(loc_list)\n",
    "print(ROUTE)\n",
    "print(len(ROUTE))\n"
   ]
  },
  {
   "cell_type": "code",
   "execution_count": null,
   "metadata": {},
   "outputs": [],
   "source": []
  }
 ],
 "metadata": {
  "kernelspec": {
   "display_name": "Python 3",
   "language": "python",
   "name": "python3"
  },
  "language_info": {
   "codemirror_mode": {
    "name": "ipython",
    "version": 3
   },
   "file_extension": ".py",
   "mimetype": "text/x-python",
   "name": "python",
   "nbconvert_exporter": "python",
   "pygments_lexer": "ipython3",
   "version": "3.7.4"
  }
 },
 "nbformat": 4,
 "nbformat_minor": 2
}
